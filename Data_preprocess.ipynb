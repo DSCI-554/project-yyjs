{
 "cells": [
  {
   "cell_type": "markdown",
   "metadata": {},
   "source": [
    "# TODO: Integrate all data to country_geojson so that we can render those on main page\n",
    "```\n",
    "expecting data structure\n",
    "\n",
    "'properties':{ '{attrname}':{ '{time_attribute}': '{value}'}}\n",
    "```"
   ]
  },
  {
   "cell_type": "code",
   "execution_count": 1,
   "metadata": {},
   "outputs": [],
   "source": [
    "import pandas as pd\n",
    "import json"
   ]
  },
  {
   "cell_type": "code",
   "execution_count": 2,
   "metadata": {},
   "outputs": [],
   "source": [
    "with open('Data/countries.geojson','r') as f:\n",
    "    country_geojson = json.load(f)"
   ]
  },
  {
   "cell_type": "code",
   "execution_count": 3,
   "metadata": {},
   "outputs": [],
   "source": [
    "# process gdp\n",
    "gdp_df = pd.read_csv('Data/gdp_data.csv',header=0,na_values='no data')\n",
    "# display(gdp_df.head())\n",
    "# display(gdp_df.columns)\n",
    "gdp_df.set_index('GDP, current prices (Billions of U.S. dollars)',inplace=True)\n",
    "gdp_dict =gdp_df[['2020','2021']].to_dict('index')"
   ]
  },
  {
   "cell_type": "code",
   "execution_count": 4,
   "metadata": {},
   "outputs": [
    {
     "data": {
      "text/plain": [
       "dict_keys(['Afghanistan', 'Albania', 'Algeria', 'Andorra', 'Angola', 'Antigua and Barbuda', 'Argentina', 'Armenia', 'Aruba', 'Australia', 'Austria', 'Azerbaijan', 'Bahamas, The', 'Bahrain', 'Bangladesh', 'Barbados', 'Belarus', 'Belgium', 'Belize', 'Benin', 'Bhutan', 'Bolivia', 'Bosnia and Herzegovina', 'Botswana', 'Brazil', 'Brunei Darussalam', 'Bulgaria', 'Burkina Faso', 'Burundi', 'Cabo Verde', 'Cambodia', 'Cameroon', 'Canada', 'Central African Republic', 'Chad', 'Chile', \"China, People's Republic of\", 'Colombia', 'Comoros', 'Congo, Dem. Rep. of the', 'Congo, Republic of ', 'Costa Rica', 'Croatia', 'Cyprus', 'Czech Republic', \"Côte d'Ivoire\", 'Denmark', 'Djibouti', 'Dominica', 'Dominican Republic', 'Ecuador', 'Egypt', 'El Salvador', 'Equatorial Guinea', 'Eritrea', 'Estonia', 'Eswatini', 'Ethiopia', 'Fiji', 'Finland', 'France', 'Gabon', 'Gambia, The', 'Georgia', 'Germany', 'Ghana', 'Greece', 'Grenada', 'Guatemala', 'Guinea', 'Guinea-Bissau', 'Guyana', 'Haiti', 'Honduras', 'Hong Kong SAR', 'Hungary', 'Iceland', 'India', 'Indonesia', 'Iran', 'Iraq', 'Ireland', 'Israel', 'Italy', 'Jamaica', 'Japan', 'Jordan', 'Kazakhstan', 'Kenya', 'Kiribati', 'Korea, Republic of', 'Kosovo', 'Kuwait', 'Kyrgyz Republic', 'Lao P.D.R.', 'Latvia', 'Lebanon', 'Lesotho', 'Liberia', 'Libya', 'Lithuania', 'Luxembourg', 'Macao SAR', 'Madagascar', 'Malawi', 'Malaysia', 'Maldives', 'Mali', 'Malta', 'Marshall Islands', 'Mauritania', 'Mauritius', 'Mexico', 'Micronesia, Fed. States of', 'Moldova', 'Mongolia', 'Montenegro', 'Morocco', 'Mozambique', 'Myanmar', 'Namibia', 'Nauru', 'Nepal', 'Netherlands', 'New Zealand', 'Nicaragua', 'Niger', 'Nigeria', 'North Macedonia ', 'Norway', 'Oman', 'Pakistan', 'Palau', 'Panama', 'Papua New Guinea', 'Paraguay', 'Peru', 'Philippines', 'Poland', 'Portugal', 'Puerto Rico', 'Qatar', 'Romania', 'Russian Federation', 'Rwanda', 'Saint Kitts and Nevis', 'Saint Lucia', 'Saint Vincent and the Grenadines', 'Samoa', 'San Marino', 'Saudi Arabia', 'Senegal', 'Serbia', 'Seychelles', 'Sierra Leone', 'Singapore', 'Slovak Republic', 'Slovenia', 'Solomon Islands', 'Somalia', 'South Africa', 'South Sudan, Republic of', 'Spain', 'Sri Lanka', 'Sudan', 'Suriname', 'Sweden', 'Switzerland', 'Syria', 'São Tomé and Príncipe', 'Taiwan Province of China', 'Tajikistan', 'Tanzania', 'Thailand', 'Timor-Leste', 'Togo', 'Tonga', 'Trinidad and Tobago', 'Tunisia', 'Turkey', 'Turkmenistan', 'Tuvalu', 'Uganda', 'Ukraine', 'United Arab Emirates', 'United Kingdom', 'United States', 'Uruguay', 'Uzbekistan', 'Vanuatu', 'Venezuela', 'Vietnam', 'West Bank and Gaza', 'Yemen', 'Zambia', 'Zimbabwe', 'Africa (Region)', 'Asia and Pacific', 'Australia and New Zealand', 'Caribbean', 'Central America', 'Central Asia and the Caucasus', 'East Asia', 'Eastern Europe ', 'Europe', 'Middle East (Region)', 'North Africa', 'North America', 'Pacific Islands ', 'South America', 'South Asia', 'Southeast Asia', 'Sub-Saharan Africa (Region) ', 'Western Europe', 'Western Hemisphere (Region)', 'ASEAN-5', 'Advanced economies', 'Emerging and Developing Asia', 'Emerging and Developing Europe', 'Emerging market and developing economies', 'Euro area', 'European Union', 'Latin America and the Caribbean', 'Major advanced economies (G7)', 'Middle East and Central Asia', 'Other advanced economies', 'Sub-Saharan Africa', 'World'])"
      ]
     },
     "execution_count": 4,
     "metadata": {},
     "output_type": "execute_result"
    }
   ],
   "source": [
    "gdp_dict.keys()"
   ]
  },
  {
   "cell_type": "code",
   "execution_count": 5,
   "metadata": {},
   "outputs": [
    {
     "name": "stdout",
     "output_type": "stream",
     "text": [
      "country names that are not listed in geocountry\n",
      "Bahamas\n",
      "Greenland\n",
      "Cuba\n",
      "Dominican Rep.\n",
      "Falkland Is.\n",
      "China\n",
      "Brunei\n",
      "N. Cyprus\n",
      "Kyrgyzstan\n",
      "Lao PDR\n",
      "Korea\n",
      "Palestine\n",
      "Dem. Rep. Korea\n",
      "Taiwan\n",
      "C么te d'Ivoire\n",
      "Central African Rep.\n",
      "Congo\n",
      "Dem. Rep. Congo\n",
      "Eq. Guinea\n",
      "Gambia\n",
      "W. Sahara\n",
      "S. Sudan\n",
      "Somaliland\n",
      "Swaziland\n",
      "Czech Rep.\n",
      "Bosnia and Herz.\n",
      "Russia\n",
      "Macedonia\n",
      "Slovakia\n",
      "New Caledonia\n",
      "Solomon Is.\n"
     ]
    }
   ],
   "source": [
    "match = 0\n",
    "mis = 0\n",
    "print('country names that are not listed in geocountry')\n",
    "for i, country in enumerate(country_geojson['features']):\n",
    "    if country['properties']['name'] in gdp_dict.keys():\n",
    "        match+=1\n",
    "    else:\n",
    "        mis+=1\n",
    "        print(country['properties']['name'])\n",
    "        \n",
    "geo2gdp_name =  {\"China\":\"China, People's Republic of\",\n",
    "                     \"Korea\":\"Korea, Republic of\",\n",
    "                     \"Russia\":\"Russian Federation\",\n",
    "                 \"S. Sudan\" : \"South Sudan, Republic of\",\n",
    "                }\n",
    "        \n",
    "for i, country in enumerate(country_geojson['features']):\n",
    "    name = country['properties']['name']\n",
    "    if name in gdp_dict.keys():\n",
    "        gdp = gdp_dict[name]\n",
    "    elif name in geo2gdp_name.keys():\n",
    "        gdp = gdp_dict[geo2gdp_name[name]]\n",
    "    else:\n",
    "        gdp = {}\n",
    "    gdp = dict(filter(lambda i: not pd.isna(i[1]),gdp.items()))\n",
    "    country['properties']['gdp'] = gdp"
   ]
  },
  {
   "cell_type": "code",
   "execution_count": 6,
   "metadata": {},
   "outputs": [
    {
     "data": {
      "text/plain": [
       "(0.932, 20893.75, 0.9990000000000001, 22939.58)"
      ]
     },
     "execution_count": 6,
     "metadata": {},
     "output_type": "execute_result"
    }
   ],
   "source": [
    "# feature exploration that we can use to set up legend and color scaler\n",
    "max20,max21=0,0\n",
    "min20,min21=float('inf'),float('inf')\n",
    "\n",
    "for d in country_geojson['features']:\n",
    "    if 'gdp' in d['properties']:\n",
    "        t = d['properties']['gdp']\n",
    "        if '2020' in t:\n",
    "            if t['2020'] > max20:\n",
    "                max20 = t['2020']\n",
    "            if t['2020'] < min20:\n",
    "                min20 = t['2020']\n",
    "        if '2021' in t:\n",
    "            if t['2021'] > max21:\n",
    "                max21 = t['2021']\n",
    "            if t['2021'] < min21:\n",
    "                min21 = t['2021']\n",
    "min20,max20,min21,max21"
   ]
  },
  {
   "cell_type": "code",
   "execution_count": 7,
   "metadata": {},
   "outputs": [],
   "source": [
    "with open('scr/mydatap.json','r') as f:\n",
    "    school_dict = json.load(f)"
   ]
  },
  {
   "cell_type": "code",
   "execution_count": 9,
   "metadata": {},
   "outputs": [
    {
     "data": {
      "text/plain": [
       "dict_keys(['Aruba', 'Afghanistan', 'Angola', 'Anguilla', 'Albania', 'Andorra', 'United Arab Emirates', 'Argentina', 'Armenia', 'Antigua and Barbuda', 'Australia', 'Austria', 'Azerbaijan', 'Burundi', 'Belgium', 'Benin', 'Burkina Faso', 'Bangladesh', 'Bulgaria', 'Bahrain', 'Bahamas', 'Bosnia and Herzegovina', 'Belarus', 'Belize', 'Bermuda', 'Bolivia', 'Brazil', 'Barbados', 'Brunei Darussalam', 'Bhutan', 'Botswana', 'Central African Rep.', 'Canada', 'Switzerland', 'Chile', 'China', \"Cote d'Ivoire\", 'Cameroon', 'Dem. Rep. Congo', 'Congo', 'Cook Islands', 'Colombia', 'Comoros', 'Cabo Verde', 'Costa Rica', 'Cuba', 'CuraÃ§ao', 'Cayman Islands', 'Cyprus', 'Czechia', 'Germany', 'Djibouti', 'Dominica', 'Denmark', 'Dominican Republic', 'Algeria', 'Ecuador', 'Egypt', 'Eritrea', 'Spain', 'Estonia', 'Ethiopia', 'Finland', 'Fiji', 'France', 'Faroe Islands', 'Micronesia (Federated States of)', 'Gabon', 'United Kingdom', 'Georgia', 'Ghana', 'Gibraltar', 'Guinea', 'Gambia', 'Guinea-Bissau', 'Equatorial Guinea', 'Greece', 'Grenada', 'Greenland', 'Guatemala', 'Guyana', 'Honduras', 'Croatia', 'Haiti', 'Hungary', 'Indonesia', 'India', 'Ireland', 'Iran', 'Iraq', 'Iceland', 'Israel', 'Italy', 'Jamaica', 'Jordan', 'Japan', 'Kazakhstan', 'Kenya', 'Kyrgyzstan', 'Cambodia', 'Kiribati', 'Saint Kitts and Nevis', 'South Korea', 'Kuwait', 'Lao PDR', 'Lebanon', 'Liberia', 'Libya', 'Saint Lucia', 'Liechtenstein', 'Sri Lanka', 'Lesotho', 'Lithuania', 'Luxembourg', 'Latvia', 'Morocco', 'Monaco', 'Republic of Moldova', 'Madagascar', 'Maldives', 'Mexico', 'Marshall Islands', 'North Macedonia', 'Mali', 'Malta', 'Myanmar', 'Montenegro', 'Mongolia', 'Mozambique', 'Mauritania', 'Montserrat', 'Mauritius', 'Malawi', 'Malaysia', 'Namibia', 'Niger', 'Nigeria', 'Nicaragua', 'Niue', 'Netherlands', 'Norway', 'Nepal', 'Nauru', 'New Zealand', 'Oman', 'Pakistan', 'Panama', 'Peru', 'Philippines', 'Palau', 'Papua New Guinea', 'Poland', 'North Korea', 'Portugal', 'Paraguay', 'Palestine', 'Qatar', 'Romania', 'Russia', 'Rwanda', 'Saudi Arabia', 'Sudan', 'Senegal', 'Singapore', 'Svalbard', 'Solomon Islands', 'Sierra Leone', 'El Salvador', 'San Marino', 'Somalia', 'Serbia', 'South Sudan', 'SÃ£o TomÃ© and PrÃ\\xadncipe', 'Suriname', 'Slovakia', 'Slovenia', 'Sweden', 'Eswatini', 'Sint Marteen', 'Seychelles', 'Syrian Arab Republic', 'Turks and Caicos Island', 'Chad', 'Togo', 'Thailand', 'Tajikistan', 'Tokelau', 'Turkmenistan', 'Timor-Leste', 'Tonga', 'Trinidad and Tobago', 'Tunisia', 'Turkey', 'Tuvalu', 'Tanzania', 'Uganda', 'Ukraine', 'Uruguay', 'United States of America', 'Uzbekistan', 'Saint Vincent and the Grenadines', 'Venezuela', 'British Virgin Islands', 'Vietnam', 'Vanuatu', 'Samoa', 'Yemen', 'South Africa', 'Zambia', 'Zimbabwe', 'Curaçao', 'São Tomé and Príncipe'])"
      ]
     },
     "execution_count": 9,
     "metadata": {},
     "output_type": "execute_result"
    }
   ],
   "source": [
    "tmp = {}\n",
    "for d in school_dict:\n",
    "    if d['Country'] not in tmp:\n",
    "        tmp[d['Country']] = {d['Date']:d['Status']}\n",
    "    else:\n",
    "        tmp[d['Country']][d['Date']] = d['Status']\n",
    "school_dict = tmp\n",
    "del tmp\n",
    "school_dict.keys()"
   ]
  },
  {
   "cell_type": "code",
   "execution_count": 11,
   "metadata": {},
   "outputs": [],
   "source": [
    "# list(school_dict['Japan'].keys())"
   ]
  },
  {
   "cell_type": "code",
   "execution_count": 12,
   "metadata": {},
   "outputs": [
    {
     "name": "stdout",
     "output_type": "stream",
     "text": [
      "Dominican Rep.\n",
      "Puerto Rico\n",
      "United States\n",
      "Falkland Is.\n",
      "Brunei\n",
      "N. Cyprus\n",
      "Korea\n",
      "Syria\n",
      "Dem. Rep. Korea\n",
      "Taiwan\n",
      "C么te d'Ivoire\n",
      "Eq. Guinea\n",
      "W. Sahara\n",
      "S. Sudan\n",
      "Somaliland\n",
      "Swaziland\n",
      "Czech Rep.\n",
      "Bosnia and Herz.\n",
      "Kosovo\n",
      "Moldova\n",
      "Macedonia\n",
      "New Caledonia\n",
      "Solomon Is.\n"
     ]
    }
   ],
   "source": [
    "geo2school_name =  { \"Korea\":'South Korea',\n",
    "                    'Dem. Rep. Korea': 'North Korea',\n",
    "                     \"United States of America\":'United States',\n",
    "                 \"S. Sudan\" : 'South Sudan'\n",
    "                }\n",
    "match = 0\n",
    "mis = 0\n",
    "for i, country in enumerate(country_geojson['features']):\n",
    "    if country['properties']['name'] in school_dict.keys():\n",
    "        match+=1\n",
    "    else:\n",
    "        mis+=1\n",
    "        print(country['properties']['name'])\n",
    "        \n",
    "for country in country_geojson['features']:\n",
    "    name = country['properties']['name']\n",
    "    if name in school_dict.keys():\n",
    "        school = school_dict[name]\n",
    "    elif name in geo2school_name.keys():\n",
    "        school = school_dict[geo2school_name[name]]\n",
    "    else:\n",
    "        school = {}\n",
    "    country['properties']['school'] = school"
   ]
  },
  {
   "cell_type": "code",
   "execution_count": 13,
   "metadata": {},
   "outputs": [],
   "source": [
    "with open('vue_app/public/test_integrated.geojson','w') as f:\n",
    "    json.dump(country_geojson,f)"
   ]
  },
  {
   "cell_type": "code",
   "execution_count": null,
   "metadata": {},
   "outputs": [],
   "source": []
  }
 ],
 "metadata": {
  "kernelspec": {
   "display_name": "Python 3",
   "language": "python",
   "name": "python3"
  },
  "language_info": {
   "codemirror_mode": {
    "name": "ipython",
    "version": 3
   },
   "file_extension": ".py",
   "mimetype": "text/x-python",
   "name": "python",
   "nbconvert_exporter": "python",
   "pygments_lexer": "ipython3",
   "version": "3.7.1"
  }
 },
 "nbformat": 4,
 "nbformat_minor": 2
}
